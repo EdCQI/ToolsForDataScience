{
 "cells": [
  {
   "cell_type": "markdown",
   "id": "7c72e5b4-3374-49e7-94d0-7b2bee8a10e2",
   "metadata": {},
   "source": [
    "# Data Science Tools and Ecosystems"
   ]
  },
  {
   "cell_type": "markdown",
   "id": "e491bfdf-a24d-4792-a29d-f49930d8673e",
   "metadata": {},
   "source": [
    "In this notebbok, Data Science tools and Ecosystem are summarized. "
   ]
  },
  {
   "cell_type": "markdown",
   "id": "d3c7543e-665a-47ec-a0d1-135ea24c930c",
   "metadata": {},
   "source": [
    "**Objectives**\n",
    "* List popular languages for Data Science\n",
    "* List commonly used libraries for Data Science\n",
    "* Show common arithmetic expressions in Python language\n",
    "* Show an arithmetic expression in Python language in an example and its execution"
   ]
  },
  {
   "cell_type": "markdown",
   "id": "1be07a81-9a20-4211-bc4c-501a1cee1496",
   "metadata": {},
   "source": [
    "Some of the popular languages Data Scientists use are:\n",
    "1. Python\n",
    "2. R\n",
    "3. SQL\n",
    "4. Scala\n",
    "5. Java\n",
    "6. Julia\n",
    "7. JavaScript\n",
    "8. C++"
   ]
  },
  {
   "cell_type": "markdown",
   "id": "3e53f6f8-b5d4-454c-89c3-b8f3f18939ca",
   "metadata": {},
   "source": [
    "Some of the commonly used libraries used by Data Scientists include:\n",
    "1. For Python: Pandas, NumPy, Matplotlib, Seaborn, Scikit-learn, Keras, TensorFlow, PyTorch\n",
    "2. For Spark: Vegas, BigDL\n",
    "3. For R: ggplot2"
   ]
  },
  {
   "cell_type": "markdown",
   "id": "bede382b-4a85-4a26-afc0-626ae4c231bf",
   "metadata": {},
   "source": [
    "| Data Science tools |\n",
    "|----------------|\n",
    "|Jupyter Notebooks |\n",
    "|JupyterLab|\n",
    "|Apache Zeppelin|\n",
    "|RStudio|\n",
    "|Spyder|\n"
   ]
  },
  {
   "cell_type": "markdown",
   "id": "cf1d6338-6a72-462f-9eda-b0ac4b54cdf7",
   "metadata": {},
   "source": [
    "### Below are a few examples of evaluating arithmetic expressions in Python:\n",
    "x = 1\n",
    "y = 2\n",
    "x + y\n",
    "x - y\n",
    "x * y\n",
    "x / y"
   ]
  },
  {
   "cell_type": "code",
   "execution_count": 1,
   "id": "726cd5f5-02d1-46d5-8750-2af9b750f318",
   "metadata": {},
   "outputs": [
    {
     "data": {
      "text/plain": [
       "17"
      ]
     },
     "execution_count": 1,
     "metadata": {},
     "output_type": "execute_result"
    }
   ],
   "source": [
    "#This a simple arithmetic expression to mutiply then add integers\n",
    "(3*4)+5"
   ]
  },
  {
   "cell_type": "code",
   "execution_count": 2,
   "id": "45e5f208-56ad-4182-8427-f13c75974d7c",
   "metadata": {},
   "outputs": [
    {
     "data": {
      "text/plain": [
       "3.3333333333333335"
      ]
     },
     "execution_count": 2,
     "metadata": {},
     "output_type": "execute_result"
    }
   ],
   "source": [
    "#This will convert 200 minutes to hours by diving by 60\n",
    "200/60"
   ]
  },
  {
   "cell_type": "markdown",
   "id": "1663e9aa-c23f-411e-bf56-4974b9644101",
   "metadata": {},
   "source": [
    "## Author\n",
    "Eduardo Quintanar"
   ]
  }
 ],
 "metadata": {
  "kernelspec": {
   "display_name": "Python 3 (ipykernel)",
   "language": "python",
   "name": "python3"
  },
  "language_info": {
   "codemirror_mode": {
    "name": "ipython",
    "version": 3
   },
   "file_extension": ".py",
   "mimetype": "text/x-python",
   "name": "python",
   "nbconvert_exporter": "python",
   "pygments_lexer": "ipython3",
   "version": "3.11.8"
  }
 },
 "nbformat": 4,
 "nbformat_minor": 5
}
